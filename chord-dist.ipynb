{
 "cells": [
  {
   "cell_type": "markdown",
   "metadata": {},
   "source": [
    "# Lerdahlの和音距離を実装\n",
    "\n",
    "## F. Lerdahl & C. L. Krumhansl (2007). \"Modeling Tonal Tension\". *Music Perception*. vol24-4, 329-366. "
   ]
  },
  {
   "cell_type": "code",
   "execution_count": 1,
   "metadata": {},
   "outputs": [],
   "source": [
    "class Note:\n",
    "    def __init__(self):\n",
    "        self.notes = ['C', 'C#', 'D', 'D#', 'E', 'F', 'F#', 'G', 'G#', 'A', 'A#', 'B']\n",
    "        self.len_notes = len(self.notes)\n",
    "        \n",
    "    def enharmonic(self, note):\n",
    "        \n",
    "        '''\n",
    "        returns the enharmonic of a note/key, converts every note in sharp base\n",
    "        '''\n",
    "        \n",
    "        if note == 'Db':\n",
    "            return 'C#'\n",
    "        elif note == 'Eb':\n",
    "            return 'D#'\n",
    "        elif note == 'E#':\n",
    "            return 'F'\n",
    "        elif note == 'Fb':\n",
    "            return 'E'\n",
    "        elif note == 'Gb':\n",
    "            return 'F#'\n",
    "        elif note == 'Ab':\n",
    "            return 'G#'\n",
    "        elif note == 'Bb':\n",
    "            return 'A#'\n",
    "        elif note == 'B#':\n",
    "            return 'C'\n",
    "        elif note == 'Cb':\n",
    "            return 'B'\n",
    "        elif note.istitle():\n",
    "            # returns a major key\n",
    "            return note\n",
    "        elif len(note) == 1:\n",
    "            # returns a minor key that does not need to be enharmonized\n",
    "            return note\n",
    "        else:\n",
    "            # minor key that has to be capitalized\n",
    "            note = note.capitalize()\n",
    "            return note.lower()"
   ]
  },
  {
   "cell_type": "code",
   "execution_count": 2,
   "metadata": {},
   "outputs": [],
   "source": [
    "class Scale(Note):\n",
    "    \n",
    "    def __init__(self):\n",
    "        \n",
    "        super().__init__()\n",
    "\n",
    "    def getDiatonic(self, root, style='natural'):\n",
    "        '''\n",
    "        `root` should be a string, the root note of a chord you desire to have.\n",
    "        An upper case letter will represent a major scale, and a lower case letter will represent a minor scale.\n",
    "        This function returns a string array of chords, for example, ['C', 'D', 'E', 'F', 'G', 'A', 'B']\n",
    "        '''        \n",
    "        major = False\n",
    "        if self.isMajor(root):\n",
    "            major = True\n",
    "        \n",
    "        root = root.capitalize()\n",
    "        \n",
    "        root = self.enharmonic(root)\n",
    "            \n",
    "        idx_root = self.notes.index(root)\n",
    "        \n",
    "        idx_2 = (idx_root + 2) % self.len_notes\n",
    "        idx_4 = (idx_root + 5) % self.len_notes\n",
    "        idx_5 = (idx_root + 7) % self.len_notes\n",
    "        \n",
    "        \n",
    "        if major:\n",
    "            idx_3 = (idx_root + 4)  % self.len_notes\n",
    "            idx_6 = (idx_root + 9)  % self.len_notes\n",
    "            idx_7 = (idx_root + 11) % self.len_notes\n",
    "        else:\n",
    "            idx_3 = (idx_root + 3)  % self.len_notes\n",
    "            if style=='natural':\n",
    "                idx_6 = (idx_root + 8)  % self.len_notes\n",
    "                idx_7 = (idx_root + 10) % self.len_notes\n",
    "            elif style=='harmonic':\n",
    "                idx_6 = (idx_root + 8)  % self.len_notes\n",
    "                idx_7 = (idx_root + 11) % self.len_notes                \n",
    "            elif style=='melodic':\n",
    "                idx_6 = (idx_root + 9)  % self.len_notes\n",
    "                idx_7 = (idx_root + 11) % self.len_notes                \n",
    "        \n",
    "        diatonic = [root, \n",
    "                    self.notes[idx_2], \n",
    "                    self.notes[idx_3], \n",
    "                    self.notes[idx_4], \n",
    "                    self.notes[idx_5], \n",
    "                    self.notes[idx_6], \n",
    "                    self.notes[idx_7]]\n",
    "        \n",
    "        return diatonic\n",
    "        \n",
    "    def getChromatic(self, root):\n",
    "        '''\n",
    "        `root` should be a string, the root note of a chord you desire to have.\n",
    "        The case of a letter does not matter.\n",
    "        This function returns a string array of chords, for example, ['C', 'C#', 'D', 'D#', 'E', 'F', 'F#', 'G', 'G#', 'A', 'A#', 'B']\n",
    "        '''        \n",
    "        root = root.capitalize()\n",
    "        \n",
    "        root = self.enharmonic(root)\n",
    "        \n",
    "        idx_root = self.notes.index(root)\n",
    "            \n",
    "        chromatic = self.notes[idx_root:-1] + self.notes[0:idx_root]\n",
    "\n",
    "        return chromatic\n",
    "    \n",
    "    def moveCircle(self, key1, key2):\n",
    "        '''\n",
    "        calcultes the number of moves from key1 to key2 in the circle of fifth\n",
    "        '''\n",
    "        key1 = self.enharmonic(key1)\n",
    "        key2 = self.enharmonic(key2)\n",
    "        \n",
    "        # calculate on the major side of the circle\n",
    "        if not self.isMajor(key1):\n",
    "            key1 = self.getParallel(key1)\n",
    "        if not self.isMajor(key2):\n",
    "            key2 = self.getParallel(key2)\n",
    "        \n",
    "        key1_up   = key1\n",
    "        key1_down = key1\n",
    "                \n",
    "        idx_key1_up   = self.notes.index(key1)\n",
    "        idx_key1_down = self.notes.index(key1)\n",
    "        idx_key2      = self.notes.index(key2)\n",
    "        \n",
    "        n_moves = 0\n",
    "        \n",
    "        while key1_up!=key2 and key1_down!=key2:\n",
    "            idx_key1_up   = (idx_key1_up   + 5) % self.len_notes\n",
    "            idx_key1_down = (idx_key1_down - 5) % self.len_notes\n",
    "            key1_up       = self.notes[idx_key1_up]\n",
    "            key1_down     = self.notes[idx_key1_down]\n",
    "            \n",
    "            n_moves += 1\n",
    "        \n",
    "        return n_moves\n",
    "    \n",
    "    def getParallel(self, key):\n",
    "        '''\n",
    "        Returns a parallel key, input must be a string.\n",
    "        getParallel('C') returns 'a'\n",
    "        getParallel('e') returns 'G'\n",
    "        '''\n",
    "        \n",
    "        if self.isMajor(key):\n",
    "            key = self.enharmonic(key)\n",
    "            idx_key = self.notes.index(key)\n",
    "            idx_parallel_key = (idx_key - 3) % 12\n",
    "        \n",
    "        else:\n",
    "            key = key.capitalize()\n",
    "            key = self.enharmonic(key)\n",
    "            idx_key = self.notes.index(key)\n",
    "            idx_parallel_key = (idx_key + 3) % 12\n",
    "        \n",
    "        parallel_key = self.notes[idx_parallel_key]\n",
    "\n",
    "        return parallel_key\n",
    "        \n",
    "    def isMajor(self, key):\n",
    "        '''\n",
    "        Returns true if an input key is a major key. \n",
    "        '''\n",
    "        if key.istitle():\n",
    "            return True\n",
    "        return False"
   ]
  },
  {
   "cell_type": "code",
   "execution_count": 3,
   "metadata": {},
   "outputs": [],
   "source": [
    "class Chord(Scale):\n",
    "\n",
    "    '''\n",
    "    This class treats all notes in sharps\n",
    "    '''\n",
    "    def __init__(self):\n",
    "        \n",
    "        super().__init__()\n",
    "        \n",
    "    def getDist(self, chord1, chord2, key1=None, key2=None):\n",
    "        '''\n",
    "        calculate chord distance\n",
    "        '''\n",
    "        if not key1:\n",
    "            key1 = chord1[0]\n",
    "        if not key2:\n",
    "            key2 = chord2[0]\n",
    "        \n",
    "        # calculate i: number of moves on the cycle of fifths in the level of diatonic collection (tonic key)\n",
    "        i = self.moveCircle(key1, key2)\n",
    "        \n",
    "        # calculate j: number of moves on the cycle of fifths in the level of chords\n",
    "        j = self.moveCircle(chord1[0], chord2[0])\n",
    "        \n",
    "        # calculate k: number of uncommon notes\n",
    "        k = 0\n",
    "        \n",
    "        # root level\n",
    "        roots1 = [chord1[0]]\n",
    "        roots2 = [chord2[0]]\n",
    "        k += len(roots1) - len(set(roots1) & set(roots2))\n",
    "        \n",
    "        # fifths level\n",
    "        fifths1 = [chord1[0], chord1[2]]\n",
    "        fifths2 = [chord2[0], chord2[2]]\n",
    "        k += len(fifths1) - len(set(fifths1) & set(fifths2))        \n",
    "        \n",
    "        # triadic level\n",
    "        triads1 = [chord1[0], chord1[1], chord1[2]]\n",
    "        triads2 = [chord2[0], chord2[1], chord2[2]]\n",
    "        k += len(triads1) - len(set(triads1) & set(triads2))      \n",
    "        \n",
    "        # diatonic level\n",
    "        diatonic1 = self.getDiatonic(key1)\n",
    "        diatonic2 = self.getDiatonic(key2)\n",
    "        k += len(diatonic1) - len(set(diatonic1) & set(diatonic2))      \n",
    "        \n",
    "        # chromatic level\n",
    "        chromatic1 = self.getChromatic(key1)\n",
    "        chromatic2 = self.getChromatic(key2)\n",
    "        k += len(chromatic1) - len(set(chromatic1) & set(chromatic2))    \n",
    "        \n",
    "        print(\"i: \", i)\n",
    "        print(\"j: \", j)\n",
    "        print(\"k: \", k)\n",
    "        \n",
    "        delta = i + j + k\n",
    "        \n",
    "        return delta\n",
    "        \n",
    "    def getChord(self, root, tension=''):\n",
    "        '''\n",
    "        `root` should be a string, the root note of a chord you desire to have. \n",
    "        An upper case letter will represent a major chord, and a lower case letter will represent a minor chord.\n",
    "        This function returns a string array of chords, for example, ['C', 'E', 'G']\n",
    "        As for 20190419, only major or minor chords could be returned, but other tension chords will be added in the future update.\n",
    "        '''\n",
    "        major = False\n",
    "        if self.isMajor(root):\n",
    "            major = True\n",
    "        root = root.capitalize()\n",
    "        \n",
    "        root = self.enharmonic(root)\n",
    "            \n",
    "        idx_root = self.notes.index(root)\n",
    "        \n",
    "        if major:\n",
    "            idx_3 = (idx_root + 4) % self.len_notes\n",
    "            idx_5 = (idx_root + 7) % self.len_notes\n",
    "        else:\n",
    "            idx_3 = (idx_root + 3) % self.len_notes\n",
    "            idx_5 = (idx_root + 7) % self.len_notes\n",
    "        \n",
    "        # special chords\n",
    "        if 'sus4' in tension:\n",
    "            idx_3 = (idx_root + 5) % self.len_notes\n",
    "        elif 'dim' in tension:\n",
    "            idx_3 = (idx_root + 3) % self.len_notes\n",
    "            idx_5 = (idx_root + 6) % self.len_notes\n",
    "        elif 'aug' in tension:\n",
    "            idx_3 = (idx_root + 4) % self.len_notes            \n",
    "            idx_5 = (idx_root + 8) % self.len_notes\n",
    "        \n",
    "        chord = [root, \n",
    "                 self.notes[idx_3], \n",
    "                 self.notes[idx_5]]\n",
    "        \n",
    "        # add tension\n",
    "        idx_ts = list()\n",
    "        \n",
    "        if '6' in tension:\n",
    "            idx_ts.append((idx_root + 9) % self.len_notes)\n",
    "            \n",
    "        if 'M' in tension: # M7, but using this since M9 counts\n",
    "            idx_ts.append((idx_root + 11) % self.len_notes)\n",
    "        elif '7' in tension:\n",
    "            idx_ts.append((idx_root + 10) % self.len_notes)\n",
    "            \n",
    "        if 'add9' in tension:\n",
    "            idx_ts = [((idx_root + 14) % self.len_notes)]\n",
    "        elif 'b9' in tension:\n",
    "            idx_ts.append((idx_root + 13) % self.len_notes)\n",
    "        elif '#9' in tension:\n",
    "            idx_ts.append((idx_root + 15) % self.len_notes)\n",
    "        elif '9' in tension:\n",
    "            idx_ts.append((idx_root + 14) % self.len_notes)\n",
    "            \n",
    "        if '#11' in tension:\n",
    "            idx_ts.append((idx_root + 18) % self.len_notes)\n",
    "        elif '11' in tension:\n",
    "            idx_ts.append((idx_root + 17) % self.len_notes)       \n",
    "            \n",
    "        if 'b13' in tension:\n",
    "            idx_ts.append((idx_root + 22) % self.len_notes)        \n",
    "        elif '13' in tension:\n",
    "            idx_ts.append((idx_root + 22) % self.len_notes)            \n",
    "            \n",
    "        for idx_t in idx_ts:\n",
    "            chord.append(self.notes[idx_t])\n",
    "            \n",
    "        return chord\n",
    "    "
   ]
  },
  {
   "cell_type": "markdown",
   "metadata": {},
   "source": [
    "## Examples\n",
    "\n",
    "### Get a diatonic scale of B flat minor"
   ]
  },
  {
   "cell_type": "code",
   "execution_count": 4,
   "metadata": {},
   "outputs": [
    {
     "data": {
      "text/plain": [
       "['A#', 'C', 'C#', 'D', 'D#', 'E', 'F', 'F#', 'G', 'G#', 'A']"
      ]
     },
     "execution_count": 4,
     "metadata": {},
     "output_type": "execute_result"
    }
   ],
   "source": [
    "Scale().getChromatic('bb')"
   ]
  },
  {
   "cell_type": "markdown",
   "metadata": {},
   "source": [
    "### Get the distance between C chord on C key and G chord on C key"
   ]
  },
  {
   "cell_type": "code",
   "execution_count": 5,
   "metadata": {},
   "outputs": [
    {
     "name": "stdout",
     "output_type": "stream",
     "text": [
      "['C', 'E', 'G']\n",
      "i:  0\n",
      "j:  1\n",
      "k:  4\n"
     ]
    },
    {
     "data": {
      "text/plain": [
       "5"
      ]
     },
     "execution_count": 5,
     "metadata": {},
     "output_type": "execute_result"
    }
   ],
   "source": [
    "chord1 = Chord().getChord('C')\n",
    "chord2 = Chord().getChord('G')\n",
    "print(chord1)\n",
    "Chord().getDist(chord1, chord2, key1='C', key2='C')"
   ]
  },
  {
   "cell_type": "markdown",
   "metadata": {},
   "source": [
    "### Get the distance between C chord on C key and G chord on G key"
   ]
  },
  {
   "cell_type": "code",
   "execution_count": 12,
   "metadata": {},
   "outputs": [
    {
     "name": "stdout",
     "output_type": "stream",
     "text": [
      "i:  1\n",
      "j:  1\n",
      "k:  5\n"
     ]
    },
    {
     "data": {
      "text/plain": [
       "7"
      ]
     },
     "execution_count": 12,
     "metadata": {},
     "output_type": "execute_result"
    }
   ],
   "source": [
    "chord1 = Chord().getChord('C')\n",
    "chord2 = Chord().getChord('G')\n",
    "Chord().getDist(chord1, chord2, key1='C', key2='G')"
   ]
  },
  {
   "cell_type": "markdown",
   "metadata": {},
   "source": [
    "### Get the distance between C chord on C key and G chord on C key"
   ]
  },
  {
   "cell_type": "code",
   "execution_count": 18,
   "metadata": {},
   "outputs": [
    {
     "name": "stdout",
     "output_type": "stream",
     "text": [
      "i:  0\n",
      "j:  1\n",
      "k:  4\n"
     ]
    },
    {
     "data": {
      "text/plain": [
       "5"
      ]
     },
     "execution_count": 18,
     "metadata": {},
     "output_type": "execute_result"
    }
   ],
   "source": [
    "chord1 = Chord().getChord('C')\n",
    "chord2 = Chord().getChord('G')\n",
    "Chord().getDist(chord1, chord2, key1='C', key2='C')"
   ]
  },
  {
   "cell_type": "markdown",
   "metadata": {},
   "source": [
    "### Get the distance between C chord on C key and C minor chord on C minor key"
   ]
  },
  {
   "cell_type": "code",
   "execution_count": 14,
   "metadata": {},
   "outputs": [
    {
     "name": "stdout",
     "output_type": "stream",
     "text": [
      "i:  3\n",
      "j:  0\n",
      "k:  4\n"
     ]
    },
    {
     "data": {
      "text/plain": [
       "7"
      ]
     },
     "execution_count": 14,
     "metadata": {},
     "output_type": "execute_result"
    }
   ],
   "source": [
    "chord1 = Chord().getChord('C')\n",
    "chord2 = Chord().getChord('c')\n",
    "Chord().getDist(chord1, chord2, key1='C', key2='c')"
   ]
  },
  {
   "cell_type": "code",
   "execution_count": null,
   "metadata": {},
   "outputs": [],
   "source": []
  },
  {
   "cell_type": "code",
   "execution_count": null,
   "metadata": {},
   "outputs": [],
   "source": []
  },
  {
   "cell_type": "code",
   "execution_count": null,
   "metadata": {},
   "outputs": [],
   "source": []
  }
 ],
 "metadata": {
  "kernelspec": {
   "display_name": "Python 3",
   "language": "python",
   "name": "python3"
  },
  "language_info": {
   "codemirror_mode": {
    "name": "ipython",
    "version": 3
   },
   "file_extension": ".py",
   "mimetype": "text/x-python",
   "name": "python",
   "nbconvert_exporter": "python",
   "pygments_lexer": "ipython3",
   "version": "3.7.2"
  }
 },
 "nbformat": 4,
 "nbformat_minor": 2
}
